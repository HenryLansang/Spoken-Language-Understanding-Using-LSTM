{
 "cells": [
  {
   "cell_type": "code",
   "execution_count": 2,
   "metadata": {
    "collapsed": false
   },
   "outputs": [
    {
     "name": "stderr",
     "output_type": "stream",
     "text": [
      "Using gpu device 0: GRID K520 (CNMeM is disabled, cuDNN Version is too old. Update to v5, was 3007.)\n",
      "/home/ubuntu/miniconda2/envs/theano/lib/python2.7/site-packages/theano/tensor/signal/downsample.py:6: UserWarning: downsample module has been moved to the theano.tensor.signal.pool module.\n",
      "  \"downsample module has been moved to the theano.tensor.signal.pool module.\")\n"
     ]
    },
    {
     "name": "stdout",
     "output_type": "stream",
     "text": [
      "verbose: True\n",
      "normal: True\n",
      "win: 3\n",
      "layer_norm: False\n",
      "savemodel: False\n",
      "simplified_type: no_forget\n",
      "seed: 345\n",
      "emb_dimension: 50\n",
      "nepochs: 35\n",
      "minibatch_size: 4978\n",
      "nhidden: 200\n",
      "decay: True\n",
      "moving_avg: 3\n",
      "lr: 0.1\n",
      "folder: ../result\n",
      "... loading the dataset\n",
      "Sentences in train: 4978, Words in train: 56590\n",
      "Sentences in test: 893, Words in test: 9198\n",
      "... building the model\n",
      "... training\n",
      "NEW BEST: epoch 0, minibatch 1/1, best test F1: 69.950\n",
      "NEW BEST: epoch 1, minibatch 1/1, best test F1: 79.300\n",
      "NEW BEST: epoch 2, minibatch 1/1, best test F1: 83.440\n",
      "NEW BEST: epoch 3, minibatch 1/1, best test F1: 85.690\n",
      "NEW BEST: epoch 4, minibatch 1/1, best test F1: 87.960\n",
      "NEW BEST: epoch 5, minibatch 1/1, best test F1: 88.880\n",
      "NEW BEST: epoch 6, minibatch 1/1, best test F1: 89.980\n",
      "NEW BEST: epoch 7, minibatch 1/1, best test F1: 90.400\n",
      "NEW BEST: epoch 8, minibatch 1/1, best test F1: 91.960\n",
      "\n",
      "NEW BEST: epoch 10, minibatch 1/1, best test F1: 92.340\n",
      "\n",
      "NEW BEST: epoch 12, minibatch 1/1, best test F1: 93.290\n",
      "\n",
      "NEW BEST: epoch 14, minibatch 1/1, best test F1: 93.390\n",
      "NEW BEST: epoch 15, minibatch 1/1, best test F1: 93.450\n",
      "NEW BEST: epoch 16, minibatch 1/1, best test F1: 93.810\n",
      "\n",
      "\n",
      "\n",
      "\n",
      "\n",
      "\n",
      "\n",
      "\n",
      "\n",
      "\n",
      "\n",
      "NEW BEST: epoch 28, minibatch 1/1, best test F1: 93.990\n",
      "\n",
      "\n",
      "NEW BEST: epoch 31, minibatch 1/1, best test F1: 94.070\n",
      "\n",
      "\n",
      "\n",
      "('BEST RESULT: epoch', 31, 'best test F1', 94.07, 'with the model', '../result')\n"
     ]
    }
   ],
   "source": [
    "import rnn\n",
    "import theano\n",
    "import imp\n",
    "imp.reload(rnn)\n",
    "\n",
    "param = {\n",
    "        'lr': 0.1,\n",
    "        'verbose': True,\n",
    "        'decay': True,\n",
    "        'win': 3,\n",
    "        'nhidden': 200,\n",
    "        'seed': 345,\n",
    "        'emb_dimension': 50,\n",
    "        'nepochs': 35,\n",
    "        'savemodel': False,\n",
    "        'normal': True,\n",
    "        'layer_norm': False,\n",
    "        'minibatch_size':4978,\n",
    "        'moving_avg':3,\n",
    "        'folder':'../result'}\n",
    "\n",
    "rnn.test_rnn(**param);"
   ]
  },
  {
   "cell_type": "code",
   "execution_count": null,
   "metadata": {
    "collapsed": true
   },
   "outputs": [],
   "source": []
  }
 ],
 "metadata": {
  "kernelspec": {
   "display_name": "Python 2",
   "language": "python",
   "name": "python2"
  },
  "language_info": {
   "codemirror_mode": {
    "name": "ipython",
    "version": 2
   },
   "file_extension": ".py",
   "mimetype": "text/x-python",
   "name": "python",
   "nbconvert_exporter": "python",
   "pygments_lexer": "ipython2",
   "version": "2.7.11"
  }
 },
 "nbformat": 4,
 "nbformat_minor": 0
}
