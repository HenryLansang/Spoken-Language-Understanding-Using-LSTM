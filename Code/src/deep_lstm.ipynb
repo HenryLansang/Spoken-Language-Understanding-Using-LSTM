{
 "cells": [
  {
   "cell_type": "code",
   "execution_count": null,
   "metadata": {
    "collapsed": false
   },
   "outputs": [
    {
     "name": "stdout",
     "output_type": "stream",
     "text": [
      "verbose: True\n",
      "win: 3\n",
      "layer_norm: False\n",
      "seed: 345\n",
      "moving_avg: 3\n",
      "nhidden: 200\n",
      "decay: True\n",
      "experiment: deep\n",
      "lr: 0.1\n",
      "folder: ../result_deep\n",
      "minibatch_size: 4978\n",
      "normal: True\n",
      "nhidden2: 300\n",
      "nepochs: 60\n",
      "simplified_type: no_forget\n",
      "emb_dimension: 50\n",
      "savemodel: False\n",
      "... loading the dataset\n",
      "Sentences in train: 4978, Words in train: 56590\n",
      "Sentences in test: 893, Words in test: 9198\n",
      "... building the model\n",
      "... training\n",
      "NEW BEST: epoch 0, minibatch 1/1, best test F1: 82.300\n",
      "NEW BEST: epoch 1, minibatch 1/1, best test F1: 89.690\n",
      "NEW BEST: epoch 2, minibatch 1/1, best test F1: 90.520\n",
      "NEW BEST: epoch 3, minibatch 1/1, best test F1: 91.550\n",
      "NEW BEST: epoch 4, minibatch 1/1, best test F1: 92.960\n",
      "NEW BEST: epoch 5, minibatch 1/1, best test F1: 93.270\n",
      "NEW BEST: epoch 6, minibatch 1/1, best test F1: 93.310\n",
      "NEW BEST: epoch 7, minibatch 1/1, best test F1: 93.410\n",
      "NEW BEST: epoch 8, minibatch 1/1, best test F1: 93.690\n",
      "NEW BEST: epoch 9, minibatch 1/1, best test F1: 93.810\n",
      "NEW BEST: epoch 10, minibatch 1/1, best test F1: 93.860\n",
      "NEW BEST: epoch 11, minibatch 1/1, best test F1: 93.880\n",
      "\n",
      "NEW BEST: epoch 13, minibatch 1/1, best test F1: 93.960\n",
      "\n",
      "NEW BEST: epoch 15, minibatch 1/1, best test F1: 94.020\n",
      "\n",
      "\n",
      "\n",
      "NEW BEST: epoch 24, minibatch 1/1, best test F1: 94.150\n",
      "\n",
      "\n",
      "NEW BEST: epoch 27, minibatch 1/1, best test F1: 94.260\n",
      "\n",
      "\n",
      "\n",
      "\n",
      "\n",
      "\n",
      "\n",
      "\n",
      "\n",
      "\n",
      "\n",
      "\n",
      "\n",
      "\n",
      "\n",
      "\n",
      "\n"
     ]
    }
   ],
   "source": [
    "import lstm\n",
    "import imp\n",
    "imp.reload(lstm)\n",
    "\n",
    "param = {\n",
    "    'experiment':'deep',\n",
    "    'lr': 0.1,\n",
    "    'verbose': True,\n",
    "    'decay': True,\n",
    "    'win': 3,\n",
    "    'nhidden': 200,\n",
    "    'nhidden2':300,\n",
    "    'seed': 345,\n",
    "    'emb_dimension': 50,\n",
    "    'nepochs': 60,\n",
    "    'savemodel': False,\n",
    "    'normal': True,\n",
    "    'layer_norm': False,\n",
    "    'minibatch_size':4978,\n",
    "    'moving_avg':3,\n",
    "    'simplified_type':'no_forget',\n",
    "    'folder':'../result_deep'}\n",
    "\n",
    "lstm.test_lstm(**param)"
   ]
  },
  {
   "cell_type": "code",
   "execution_count": null,
   "metadata": {
    "collapsed": true
   },
   "outputs": [],
   "source": []
  }
 ],
 "metadata": {
  "anaconda-cloud": {},
  "kernelspec": {
   "display_name": "Python 2",
   "language": "python",
   "name": "python2"
  },
  "language_info": {
   "codemirror_mode": {
    "name": "ipython",
    "version": 2
   },
   "file_extension": ".py",
   "mimetype": "text/x-python",
   "name": "python",
   "nbconvert_exporter": "python",
   "pygments_lexer": "ipython2",
   "version": "2.7.11"
  }
 },
 "nbformat": 4,
 "nbformat_minor": 0
}
