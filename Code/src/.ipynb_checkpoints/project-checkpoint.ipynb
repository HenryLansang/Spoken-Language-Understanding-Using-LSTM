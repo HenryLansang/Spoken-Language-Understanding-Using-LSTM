{
 "cells": [
  {
   "cell_type": "code",
   "execution_count": null,
   "metadata": {
    "collapsed": false
   },
   "outputs": [
    {
     "name": "stdout",
     "output_type": "stream",
     "text": [
      "simplified_type: no_forget\n",
      "win: 3\n",
      "nhidden: 200\n",
      "lr: 0.1\n",
      "savemodel: False\n",
      "nhidden2: 300\n",
      "normal: True\n",
      "decay: True\n",
      "emb_dimension: 50\n",
      "verbose: True\n",
      "minibatch_size: 4978\n",
      "nepochs: 60\n",
      "folder: ../result\n",
      "moving_avg: 3\n",
      "seed: 345\n",
      "layer_norm: False\n",
      "experiment: deep\n",
      "... loading the dataset\n",
      "Sentences in train: 4978, Words in train: 56590\n",
      "Sentences in test: 893, Words in test: 9198\n",
      "... building the model\n"
     ]
    }
   ],
   "source": [
    "import lstm\n",
    "import imp\n",
    "imp.reload(lstm)\n",
    "\n",
    "param = {\n",
    "    'experiment':'deep',\n",
    "    'lr': 0.1,\n",
    "    'verbose': True,\n",
    "    'decay': True,\n",
    "    'win': 3,\n",
    "    'nhidden': 200,\n",
    "    'nhidden2':300,\n",
    "    'seed': 345,\n",
    "    'emb_dimension': 50,\n",
    "    'nepochs': 60,\n",
    "    'savemodel': False,\n",
    "    'normal': True,\n",
    "    'layer_norm': False,\n",
    "    'minibatch_size':4978,\n",
    "    'moving_avg':3,\n",
    "    'simplified_type':'no_forget',\n",
    "    'folder':'../result'}\n",
    "\n",
    "lstm.test_lstm(**param)"
   ]
  },
  {
   "cell_type": "code",
   "execution_count": 23,
   "metadata": {
    "collapsed": false
   },
   "outputs": [
    {
     "data": {
      "text/plain": [
       "4978"
      ]
     },
     "execution_count": 23,
     "metadata": {},
     "output_type": "execute_result"
    }
   ],
   "source": [
    "995+3983"
   ]
  },
  {
   "cell_type": "code",
   "execution_count": null,
   "metadata": {
    "collapsed": true
   },
   "outputs": [],
   "source": []
  }
 ],
 "metadata": {
  "anaconda-cloud": {},
  "kernelspec": {
   "display_name": "Python [Root]",
   "language": "python",
   "name": "Python [Root]"
  }
 },
 "nbformat": 4,
 "nbformat_minor": 0
}
