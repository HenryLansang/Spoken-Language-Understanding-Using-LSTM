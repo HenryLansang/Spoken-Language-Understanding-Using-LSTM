{
 "cells": [
  {
   "cell_type": "code",
   "execution_count": 8,
   "metadata": {
    "collapsed": false
   },
   "outputs": [
    {
     "name": "stdout",
     "output_type": "stream",
     "text": [
      "emb_dimension: 50\n",
      "normal: True\n",
      "minibatch_size: 10\n",
      "nhidden: 300\n",
      "folder: ../result\n",
      "decay: True\n",
      "savemodel: False\n",
      "seed: 345\n",
      "lr: 0.1\n",
      "nepochs: 60\n",
      "fold: 3\n",
      "layer_norm: False\n",
      "verbose: True\n",
      "win: 3\n",
      "... loading the dataset\n",
      "Sentences in train: 4978, Words in train: 56590\n",
      "Sentences in test: 893, Words in test: 9198\n",
      "... building the model\n",
      "... training\n",
      "NEW BEST: epoch 0, minibatch 1/497, best test F1: 0.000\n",
      "\n",
      "NEW BEST: epoch 0, minibatch 3/497, best test F1: 2.170\n",
      "\n",
      "\n",
      "NEW BEST: epoch 0, minibatch 6/497, best test F1: 9.860\n",
      "NEW BEST: epoch 0, minibatch 7/497, best test F1: 21.460\n",
      "NEW BEST: epoch 0, minibatch 8/497, best test F1: 29.620\n",
      "\n",
      "\n",
      "NEW BEST: epoch 0, minibatch 11/497, best test F1: 32.010\n",
      "\n",
      "NEW BEST: epoch 0, minibatch 13/497, best test F1: 34.590\n",
      "NEW BEST: epoch 0, minibatch 14/497, best test F1: 38.320\n",
      "\n",
      "NEW BEST: epoch 0, minibatch 16/497, best test F1: 38.690\n",
      "NEW BEST: epoch 0, minibatch 17/497, best test F1: 40.930\n",
      "\n",
      "\n",
      "NEW BEST: epoch 0, minibatch 20/497, best test F1: 40.980\n",
      "NEW BEST: epoch 0, minibatch 21/497, best test F1: 41.970\n",
      "NEW BEST: epoch 0, minibatch 22/497, best test F1: 42.460\n",
      "NEW BEST: epoch 0, minibatch 23/497, best test F1: 42.690\n",
      "\n",
      "NEW BEST: epoch 0, minibatch 25/497, best test F1: 43.790\n",
      "NEW BEST: epoch 0, minibatch 26/497, best test F1: 44.570\n",
      "NEW BEST: epoch 0, minibatch 27/497, best test F1: 44.600\n",
      "\n",
      "NEW BEST: epoch 0, minibatch 29/497, best test F1: 45.100\n",
      "NEW BEST: epoch 0, minibatch 30/497, best test F1: 46.120\n",
      "\n",
      "\n",
      "\n",
      "\n",
      "NEW BEST: epoch 0, minibatch 35/497, best test F1: 46.230\n",
      "NEW BEST: epoch 0, minibatch 36/497, best test F1: 47.340\n"
     ]
    },
    {
     "ename": "KeyboardInterrupt",
     "evalue": "",
     "output_type": "error",
     "traceback": [
      "\u001b[0;31m---------------------------------------------------------------------------\u001b[0m",
      "\u001b[0;31mKeyboardInterrupt\u001b[0m                         Traceback (most recent call last)",
      "\u001b[0;32m<ipython-input-8-768ee80c4f12>\u001b[0m in \u001b[0;36m<module>\u001b[0;34m()\u001b[0m\n\u001b[1;32m     18\u001b[0m     'folder':'../result'}\n\u001b[1;32m     19\u001b[0m \u001b[0;34m\u001b[0m\u001b[0m\n\u001b[0;32m---> 20\u001b[0;31m \u001b[0mlstm\u001b[0m\u001b[0;34m.\u001b[0m\u001b[0mtest_lstm\u001b[0m\u001b[0;34m(\u001b[0m\u001b[0;34m**\u001b[0m\u001b[0mparam\u001b[0m\u001b[0;34m)\u001b[0m\u001b[0;34m\u001b[0m\u001b[0m\n\u001b[0m",
      "\u001b[0;32m/Users/sanjarahmadov/Desktop/Columbia/NN & Deep Lerning/Spoken Language Understanding using LSTM/Code/src/lstm.py\u001b[0m in \u001b[0;36mtest_lstm\u001b[0;34m(**kwargs)\u001b[0m\n\u001b[1;32m    369\u001b[0m             predictions_test = [[idx2label[x] for x in lstm.classify(numpy.asarray(\n\u001b[1;32m    370\u001b[0m                         contextwin(x, param['win'])).astype('int32'))]\n\u001b[0;32m--> 371\u001b[0;31m                          for x in test_lex]\n\u001b[0m\u001b[1;32m    372\u001b[0m \u001b[0;34m\u001b[0m\u001b[0m\n\u001b[1;32m    373\u001b[0m             \u001b[0;31m# evaluation // compute the accuracy using conlleval.pl\u001b[0m\u001b[0;34m\u001b[0m\u001b[0;34m\u001b[0m\u001b[0m\n",
      "\u001b[0;32m/Users/sanjarahmadov/Desktop/Columbia/NN & Deep Lerning/Spoken Language Understanding using LSTM/Code/src/lstm.py\u001b[0m in \u001b[0;36m<listcomp>\u001b[0;34m(.0)\u001b[0m\n\u001b[1;32m    369\u001b[0m             predictions_test = [[idx2label[x] for x in lstm.classify(numpy.asarray(\n\u001b[1;32m    370\u001b[0m                         contextwin(x, param['win'])).astype('int32'))]\n\u001b[0;32m--> 371\u001b[0;31m                          for x in test_lex]\n\u001b[0m\u001b[1;32m    372\u001b[0m \u001b[0;34m\u001b[0m\u001b[0m\n\u001b[1;32m    373\u001b[0m             \u001b[0;31m# evaluation // compute the accuracy using conlleval.pl\u001b[0m\u001b[0;34m\u001b[0m\u001b[0;34m\u001b[0m\u001b[0m\n",
      "\u001b[0;32m/Users/sanjarahmadov/anaconda/lib/python3.5/site-packages/theano/compile/function_module.py\u001b[0m in \u001b[0;36m__call__\u001b[0;34m(self, *args, **kwargs)\u001b[0m\n\u001b[1;32m    857\u001b[0m         \u001b[0mt0_fn\u001b[0m \u001b[0;34m=\u001b[0m \u001b[0mtime\u001b[0m\u001b[0;34m.\u001b[0m\u001b[0mtime\u001b[0m\u001b[0;34m(\u001b[0m\u001b[0;34m)\u001b[0m\u001b[0;34m\u001b[0m\u001b[0m\n\u001b[1;32m    858\u001b[0m         \u001b[0;32mtry\u001b[0m\u001b[0;34m:\u001b[0m\u001b[0;34m\u001b[0m\u001b[0m\n\u001b[0;32m--> 859\u001b[0;31m             \u001b[0moutputs\u001b[0m \u001b[0;34m=\u001b[0m \u001b[0mself\u001b[0m\u001b[0;34m.\u001b[0m\u001b[0mfn\u001b[0m\u001b[0;34m(\u001b[0m\u001b[0;34m)\u001b[0m\u001b[0;34m\u001b[0m\u001b[0m\n\u001b[0m\u001b[1;32m    860\u001b[0m         \u001b[0;32mexcept\u001b[0m \u001b[0mException\u001b[0m\u001b[0;34m:\u001b[0m\u001b[0;34m\u001b[0m\u001b[0m\n\u001b[1;32m    861\u001b[0m             \u001b[0;32mif\u001b[0m \u001b[0mhasattr\u001b[0m\u001b[0;34m(\u001b[0m\u001b[0mself\u001b[0m\u001b[0;34m.\u001b[0m\u001b[0mfn\u001b[0m\u001b[0;34m,\u001b[0m \u001b[0;34m'position_of_error'\u001b[0m\u001b[0;34m)\u001b[0m\u001b[0;34m:\u001b[0m\u001b[0;34m\u001b[0m\u001b[0m\n",
      "\u001b[0;32m/Users/sanjarahmadov/anaconda/lib/python3.5/site-packages/theano/scan_module/scan_op.py\u001b[0m in \u001b[0;36mrval\u001b[0;34m(p, i, o, n, allow_gc)\u001b[0m\n\u001b[1;32m    949\u001b[0m         def rval(p=p, i=node_input_storage, o=node_output_storage, n=node,\n\u001b[1;32m    950\u001b[0m                  allow_gc=allow_gc):\n\u001b[0;32m--> 951\u001b[0;31m             \u001b[0mr\u001b[0m \u001b[0;34m=\u001b[0m \u001b[0mp\u001b[0m\u001b[0;34m(\u001b[0m\u001b[0mn\u001b[0m\u001b[0;34m,\u001b[0m \u001b[0;34m[\u001b[0m\u001b[0mx\u001b[0m\u001b[0;34m[\u001b[0m\u001b[0;36m0\u001b[0m\u001b[0;34m]\u001b[0m \u001b[0;32mfor\u001b[0m \u001b[0mx\u001b[0m \u001b[0;32min\u001b[0m \u001b[0mi\u001b[0m\u001b[0;34m]\u001b[0m\u001b[0;34m,\u001b[0m \u001b[0mo\u001b[0m\u001b[0;34m)\u001b[0m\u001b[0;34m\u001b[0m\u001b[0m\n\u001b[0m\u001b[1;32m    952\u001b[0m             \u001b[0;32mfor\u001b[0m \u001b[0mo\u001b[0m \u001b[0;32min\u001b[0m \u001b[0mnode\u001b[0m\u001b[0;34m.\u001b[0m\u001b[0moutputs\u001b[0m\u001b[0;34m:\u001b[0m\u001b[0;34m\u001b[0m\u001b[0m\n\u001b[1;32m    953\u001b[0m                 \u001b[0mcompute_map\u001b[0m\u001b[0;34m[\u001b[0m\u001b[0mo\u001b[0m\u001b[0;34m]\u001b[0m\u001b[0;34m[\u001b[0m\u001b[0;36m0\u001b[0m\u001b[0;34m]\u001b[0m \u001b[0;34m=\u001b[0m \u001b[0;32mTrue\u001b[0m\u001b[0;34m\u001b[0m\u001b[0m\n",
      "\u001b[0;32m/Users/sanjarahmadov/anaconda/lib/python3.5/site-packages/theano/scan_module/scan_op.py\u001b[0m in \u001b[0;36m<lambda>\u001b[0;34m(node, args, outs)\u001b[0m\n\u001b[1;32m    938\u001b[0m                         \u001b[0margs\u001b[0m\u001b[0;34m,\u001b[0m\u001b[0;34m\u001b[0m\u001b[0m\n\u001b[1;32m    939\u001b[0m                         \u001b[0mouts\u001b[0m\u001b[0;34m,\u001b[0m\u001b[0;34m\u001b[0m\u001b[0m\n\u001b[0;32m--> 940\u001b[0;31m                         self, node)\n\u001b[0m\u001b[1;32m    941\u001b[0m         \u001b[0;32mexcept\u001b[0m \u001b[0;34m(\u001b[0m\u001b[0mImportError\u001b[0m\u001b[0;34m,\u001b[0m \u001b[0mtheano\u001b[0m\u001b[0;34m.\u001b[0m\u001b[0mgof\u001b[0m\u001b[0;34m.\u001b[0m\u001b[0mcmodule\u001b[0m\u001b[0;34m.\u001b[0m\u001b[0mMissingGXX\u001b[0m\u001b[0;34m)\u001b[0m\u001b[0;34m:\u001b[0m\u001b[0;34m\u001b[0m\u001b[0m\n\u001b[1;32m    942\u001b[0m             \u001b[0mp\u001b[0m \u001b[0;34m=\u001b[0m \u001b[0mself\u001b[0m\u001b[0;34m.\u001b[0m\u001b[0mexecute\u001b[0m\u001b[0;34m\u001b[0m\u001b[0m\n",
      "\u001b[0;32mtheano/scan_module/scan_perform.pyx\u001b[0m in \u001b[0;36mtheano.scan_module.scan_perform.perform (/Users/sanjarahmadov/.theano/compiledir_Darwin-16.1.0-x86_64-i386-64bit-i386-3.5.2-64/scan_perform/mod.cpp:6489)\u001b[0;34m()\u001b[0m\n",
      "\u001b[0;32m/Users/sanjarahmadov/anaconda/lib/python3.5/site-packages/theano/tensor/type.py\u001b[0m in \u001b[0;36mvalue_zeros\u001b[0;34m(self, shape)\u001b[0m\n\u001b[1;32m    627\u001b[0m             \u001b[0;32mreturn\u001b[0m \u001b[0;34m(\u001b[0m\u001b[0;34m)\u001b[0m\u001b[0;34m\u001b[0m\u001b[0m\n\u001b[1;32m    628\u001b[0m \u001b[0;34m\u001b[0m\u001b[0m\n\u001b[0;32m--> 629\u001b[0;31m     \u001b[0;32mdef\u001b[0m \u001b[0mvalue_zeros\u001b[0m\u001b[0;34m(\u001b[0m\u001b[0mself\u001b[0m\u001b[0;34m,\u001b[0m \u001b[0mshape\u001b[0m\u001b[0;34m)\u001b[0m\u001b[0;34m:\u001b[0m\u001b[0;34m\u001b[0m\u001b[0m\n\u001b[0m\u001b[1;32m    630\u001b[0m         \"\"\"\n\u001b[1;32m    631\u001b[0m         \u001b[0mCreate\u001b[0m \u001b[0man\u001b[0m \u001b[0mnumpy\u001b[0m \u001b[0mndarray\u001b[0m \u001b[0mfull\u001b[0m \u001b[0mof\u001b[0m \u001b[0;36m0\u001b[0m \u001b[0mvalues\u001b[0m\u001b[0;34m.\u001b[0m\u001b[0;34m\u001b[0m\u001b[0m\n",
      "\u001b[0;31mKeyboardInterrupt\u001b[0m: "
     ]
    }
   ],
   "source": [
    "import lstm\n",
    "import imp\n",
    "imp.reload(lstm)\n",
    "\n",
    "param = {\n",
    "    'lr': 0.1,\n",
    "    'verbose': True,\n",
    "    'decay': True,\n",
    "    'win': 3,\n",
    "    'nhidden': 300,\n",
    "    'seed': 345,\n",
    "    'emb_dimension': 50,\n",
    "    'nepochs': 60,\n",
    "    'savemodel': False,\n",
    "    'normal': True,\n",
    "    'layer_norm': False,\n",
    "    'minibatch_size':4978,\n",
    "    'folder':'../result'}\n",
    "\n",
    "lstm.test_lstm(**param)"
   ]
  },
  {
   "cell_type": "code",
   "execution_count": 23,
   "metadata": {
    "collapsed": false
   },
   "outputs": [
    {
     "data": {
      "text/plain": [
       "4978"
      ]
     },
     "execution_count": 23,
     "metadata": {},
     "output_type": "execute_result"
    }
   ],
   "source": [
    "995+3983"
   ]
  },
  {
   "cell_type": "code",
   "execution_count": null,
   "metadata": {
    "collapsed": true
   },
   "outputs": [],
   "source": []
  }
 ],
 "metadata": {
  "anaconda-cloud": {},
  "kernelspec": {
   "display_name": "Python [Root]",
   "language": "python",
   "name": "Python [Root]"
  },
  "language_info": {
   "codemirror_mode": {
    "name": "ipython",
    "version": 3
   },
   "file_extension": ".py",
   "mimetype": "text/x-python",
   "name": "python",
   "nbconvert_exporter": "python",
   "pygments_lexer": "ipython3",
   "version": "3.5.2"
  }
 },
 "nbformat": 4,
 "nbformat_minor": 0
}
