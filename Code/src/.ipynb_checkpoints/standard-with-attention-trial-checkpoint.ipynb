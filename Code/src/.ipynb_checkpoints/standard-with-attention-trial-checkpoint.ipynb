{
 "cells": [
  {
   "cell_type": "code",
   "execution_count": 1,
   "metadata": {
    "collapsed": false
   },
   "outputs": [
    {
     "name": "stderr",
     "output_type": "stream",
     "text": [
      "Using gpu device 0: GRID K520 (CNMeM is disabled, cuDNN Version is too old. Update to v5, was 3007.)\n",
      "/home/ubuntu/miniconda2/envs/theano/lib/python2.7/site-packages/theano/tensor/signal/downsample.py:6: UserWarning: downsample module has been moved to the theano.tensor.signal.pool module.\n",
      "  \"downsample module has been moved to the theano.tensor.signal.pool module.\")\n"
     ]
    },
    {
     "name": "stdout",
     "output_type": "stream",
     "text": [
      "verbose: True\n",
      "win: 3\n",
      "layer_norm: False\n",
      "seed: 345\n",
      "minibatch_size: 4978\n",
      "nhidden: 300\n",
      "decay: True\n",
      "with_attention: True\n",
      "experiment: standard\n",
      "lr: 0.1\n",
      "folder: ../result_standard_attention\n",
      "normal: True\n",
      "nhidden2: 300\n",
      "nepochs: 35\n",
      "simplified_type: no_forget\n",
      "emb_dimension: 90\n",
      "savemodel: False\n",
      "... loading the dataset\n",
      "Sentences in train: 4978, Words in train: 56590\n",
      "Sentences in test: 893, Words in test: 9198\n",
      "... building the model\n",
      "... training\n",
      "NEW BEST: epoch 0, minibatch 1/1, best test F1: 90.970\n",
      "NEW BEST: epoch 1, minibatch 1/1, best test F1: 92.520\n",
      "NEW BEST: epoch 2, minibatch 1/1, best test F1: 93.110\n",
      "NEW BEST: epoch 3, minibatch 1/1, best test F1: 93.330\n",
      "NEW BEST: epoch 4, minibatch 1/1, best test F1: 93.390\n",
      "NEW BEST: epoch 5, minibatch 1/1, best test F1: 93.550\n",
      "NEW BEST: epoch 6, minibatch 1/1, best test F1: 93.750\n",
      "\n",
      "NEW BEST: epoch 8, minibatch 1/1, best test F1: 93.980\n",
      "NEW BEST: epoch 9, minibatch 1/1, best test F1: 94.010\n",
      "\n",
      "\n",
      "NEW BEST: epoch 12, minibatch 1/1, best test F1: 94.030\n",
      "NEW BEST: epoch 13, minibatch 1/1, best test F1: 94.190\n",
      "\n",
      "\n",
      "\n",
      "\n",
      "\n",
      "\n",
      "\n",
      "\n",
      "\n",
      "\n",
      "('Decay happened. New Learning Rate:', 0.05)\n",
      "\n",
      "('Decay happened. New Learning Rate:', 0.025)\n",
      "\n",
      "('Decay happened. New Learning Rate:', 0.0125)\n",
      "\n",
      "('Decay happened. New Learning Rate:', 0.00625)\n",
      "\n",
      "('Decay happened. New Learning Rate:', 0.003125)\n",
      "\n",
      "('Decay happened. New Learning Rate:', 0.0015625)\n",
      "\n",
      "('Decay happened. New Learning Rate:', 0.00078125)\n",
      "\n",
      "('Decay happened. New Learning Rate:', 0.000390625)\n",
      "\n",
      "('Decay happened. New Learning Rate:', 0.0001953125)\n",
      "\n",
      "('Decay happened. New Learning Rate:', 9.765625e-05)\n",
      "\n",
      "('Decay happened. New Learning Rate:', 4.8828125e-05)\n",
      "\n",
      "('Decay happened. New Learning Rate:', 2.44140625e-05)\n",
      "('BEST RESULT: epoch', 13, 'best test F1', 94.19, 'with the model', '../result_standard_attention')\n"
     ]
    }
   ],
   "source": [
    "import lstm\n",
    "import imp\n",
    "imp.reload(lstm)\n",
    "\n",
    "param = {\n",
    "    'experiment':'standard',\n",
    "    'lr': 0.1,\n",
    "    'verbose': True,\n",
    "    'decay': True,\n",
    "    'win': 3,\n",
    "    'nhidden': 300,\n",
    "    'nhidden2':300,\n",
    "    'seed': 345,\n",
    "    'emb_dimension': 90,\n",
    "    'nepochs': 35,\n",
    "    'savemodel': False,\n",
    "    'normal': True,\n",
    "    'layer_norm': False,\n",
    "    'minibatch_size':4978,\n",
    "    'with_attention':True,\n",
    "    'simplified_type':'no_forget',\n",
    "    'folder':'../result_standard_attention'}\n",
    "\n",
    "lstm.test_lstm(**param);"
   ]
  },
  {
   "cell_type": "code",
   "execution_count": null,
   "metadata": {
    "collapsed": true
   },
   "outputs": [],
   "source": []
  }
 ],
 "metadata": {
  "kernelspec": {
   "display_name": "Python 2",
   "language": "python",
   "name": "python2"
  },
  "language_info": {
   "codemirror_mode": {
    "name": "ipython",
    "version": 2
   },
   "file_extension": ".py",
   "mimetype": "text/x-python",
   "name": "python",
   "nbconvert_exporter": "python",
   "pygments_lexer": "ipython2",
   "version": "2.7.11"
  }
 },
 "nbformat": 4,
 "nbformat_minor": 0
}
