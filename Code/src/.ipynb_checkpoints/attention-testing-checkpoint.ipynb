{
 "cells": [
  {
   "cell_type": "code",
   "execution_count": null,
   "metadata": {
    "collapsed": false
   },
   "outputs": [
    {
     "name": "stderr",
     "output_type": "stream",
     "text": [
      "Using gpu device 0: GRID K520 (CNMeM is disabled, cuDNN Version is too old. Update to v5, was 3007.)\n",
      "/home/ubuntu/miniconda2/envs/theano/lib/python2.7/site-packages/theano/tensor/signal/downsample.py:6: UserWarning: downsample module has been moved to the theano.tensor.signal.pool module.\n",
      "  \"downsample module has been moved to the theano.tensor.signal.pool module.\")\n"
     ]
    },
    {
     "name": "stdout",
     "output_type": "stream",
     "text": [
      "verbose: True\n",
      "normal: True\n",
      "nhidden2: 300\n",
      "win: 3\n",
      "layer_norm: False\n",
      "savemodel: False\n",
      "seed: 345\n",
      "emb_dimension: 90\n",
      "nepochs: 40\n",
      "minibatch_size: 4978\n",
      "nhidden: 300\n",
      "decay: True\n",
      "experiment: standard\n",
      "lr: 0.1\n",
      "folder: ../result\n",
      "... loading the dataset\n",
      "Sentences in train: 4978, Words in train: 56590\n",
      "Sentences in test: 893, Words in test: 9198\n",
      "... building the model\n",
      "... training\n",
      "NEW BEST: epoch 0, minibatch 1/1, best test F1: 14.160\n",
      "NEW BEST: epoch 1, minibatch 1/1, best test F1: 43.220\n",
      "NEW BEST: epoch 2, minibatch 1/1, best test F1: 57.420\n",
      "NEW BEST: epoch 3, minibatch 1/1, best test F1: 58.180\n",
      "NEW BEST: epoch 4, minibatch 1/1, best test F1: 61.980\n",
      "NEW BEST: epoch 5, minibatch 1/1, best test F1: 69.120\n",
      "NEW BEST: epoch 6, minibatch 1/1, best test F1: 69.900\n",
      "NEW BEST: epoch 7, minibatch 1/1, best test F1: 71.710\n",
      "NEW BEST: epoch 8, minibatch 1/1, best test F1: 71.940\n",
      "NEW BEST: epoch 9, minibatch 1/1, best test F1: 72.420\n",
      "NEW BEST: epoch 10, minibatch 1/1, best test F1: 73.010\n",
      "\n",
      "NEW BEST: epoch 12, minibatch 1/1, best test F1: 74.960\n",
      "\n",
      "NEW BEST: epoch 14, minibatch 1/1, best test F1: 75.860\n",
      "\n",
      "NEW BEST: epoch 16, minibatch 1/1, best test F1: 76.370\n",
      "NEW BEST: epoch 17, minibatch 1/1, best test F1: 76.460\n"
     ]
    }
   ],
   "source": [
    "import lstm_with_attention\n",
    "import imp\n",
    "imp.reload(lstm_with_attention)\n",
    "\n",
    "param = {\n",
    "    'experiment':'standard',\n",
    "    'lr': 0.1,\n",
    "    'verbose': True,\n",
    "    'decay': True,\n",
    "    'win': 3,\n",
    "    'nhidden': 300,\n",
    "    'nhidden2':300,\n",
    "    'seed': 345,\n",
    "    'emb_dimension': 90,\n",
    "    'nepochs': 40,\n",
    "    'savemodel': False,\n",
    "    'normal': True,\n",
    "    'layer_norm': False,\n",
    "    'minibatch_size':4978,\n",
    "    'folder':'../result'}\n",
    "\n",
    "lstm_with_attention.test_lstm_att(**param);"
   ]
  },
  {
   "cell_type": "code",
   "execution_count": null,
   "metadata": {
    "collapsed": false
   },
   "outputs": [],
   "source": [
    "2"
   ]
  },
  {
   "cell_type": "code",
   "execution_count": null,
   "metadata": {
    "collapsed": true
   },
   "outputs": [],
   "source": []
  }
 ],
 "metadata": {
  "kernelspec": {
   "display_name": "Python 2",
   "language": "python",
   "name": "python2"
  },
  "language_info": {
   "codemirror_mode": {
    "name": "ipython",
    "version": 2
   },
   "file_extension": ".py",
   "mimetype": "text/x-python",
   "name": "python",
   "nbconvert_exporter": "python",
   "pygments_lexer": "ipython2",
   "version": "2.7.11"
  }
 },
 "nbformat": 4,
 "nbformat_minor": 0
}
