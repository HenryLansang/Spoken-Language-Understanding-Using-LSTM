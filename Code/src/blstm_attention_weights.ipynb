{
 "cells": [
  {
   "cell_type": "code",
   "execution_count": null,
   "metadata": {
    "collapsed": false
   },
   "outputs": [],
   "source": [
    "\"\"\"BLSTM with h_t only and sperate weights per rec\"\"\"\n",
    "import blstm_with_attention\n",
    "import imp\n",
    "imp.reload(blstm_with_attention)\n",
    "4978\n",
    "param = {\n",
    "    'lr': 0.025,\n",
    "    'verbose': True,\n",
    "    'decay': True,\n",
    "    'win': 3,\n",
    "    'nhidden': 300,\n",
    "    'nhidden2':300,\n",
    "    'seed': 345,\n",
    "    'emb_dimension': 90,\n",
    "    'nepochs': 20,\n",
    "    'savemodel': False,\n",
    "    'normal': True,\n",
    "    'minibatch_size':4978,\n",
    "    'folder':'../result_ma3'}\n",
    "\n",
    "blstm_with_attention.test_blstm_att(**param);"
   ]
  },
  {
   "cell_type": "code",
   "execution_count": null,
   "metadata": {
    "collapsed": true
   },
   "outputs": [],
   "source": []
  }
 ],
 "metadata": {
  "kernelspec": {
   "display_name": "Python 2",
   "language": "python",
   "name": "python2"
  },
  "language_info": {
   "codemirror_mode": {
    "name": "ipython",
    "version": 2
   },
   "file_extension": ".py",
   "mimetype": "text/x-python",
   "name": "python",
   "nbconvert_exporter": "python",
   "pygments_lexer": "ipython2",
   "version": "2.7.11"
  }
 },
 "nbformat": 4,
 "nbformat_minor": 0
}
